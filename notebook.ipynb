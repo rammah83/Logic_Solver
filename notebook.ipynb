{
 "cells": [
  {
   "cell_type": "markdown",
   "metadata": {},
   "source": [
    "**Table of contents**<a id='toc0_'></a>    \n",
    "- 1. [Using Sympy](#toc1_)    \n",
    "  - 1.1. [Propositional Logic](#toc1_1_)    \n",
    "- 2. [Using z3 solver](#toc2_)    \n",
    "\n",
    "<!-- vscode-jupyter-toc-config\n",
    "\tnumbering=true\n",
    "\tanchor=true\n",
    "\tflat=false\n",
    "\tminLevel=1\n",
    "\tmaxLevel=6\n",
    "\t/vscode-jupyter-toc-config -->\n",
    "<!-- THIS CELL WILL BE REPLACED ON TOC UPDATE. DO NOT WRITE YOUR TEXT IN THIS CELL -->"
   ]
  },
  {
   "cell_type": "code",
   "execution_count": 49,
   "metadata": {},
   "outputs": [
    {
     "data": {
      "text/plain": [
       "'1.13.3'"
      ]
     },
     "execution_count": 49,
     "metadata": {},
     "output_type": "execute_result"
    }
   ],
   "source": [
    "import sympy as sp\n",
    "from sympy import symbols\n",
    "from sympy.logic.boolalg import And, Implies, Not\n",
    "from sympy.logic import inference\n",
    "\n",
    "sp.__version__"
   ]
  },
  {
   "cell_type": "markdown",
   "metadata": {},
   "source": [
    "# 1. <a id='toc1_'></a>[Using Sympy](#toc0_)"
   ]
  },
  {
   "cell_type": "markdown",
   "metadata": {},
   "source": [
    "* Major premise: All humans are mortal.\n",
    "* Minor premise: All Greeks are humans.\n",
    "* Conclusion/Consequent: All Greeks are mortal."
   ]
  },
  {
   "cell_type": "markdown",
   "metadata": {},
   "source": [
    "## 1.1. <a id='toc1_1_'></a>[Propositional Logic](#toc0_)"
   ]
  },
  {
   "cell_type": "code",
   "execution_count": 50,
   "metadata": {},
   "outputs": [
    {
     "name": "stdout",
     "output_type": "stream",
     "text": [
      "Syllogism in propositional logic:\n"
     ]
    },
    {
     "data": {
      "text/plain": [
       "[{R: True, P: False, A: False},\n",
       " {R: True, P: False, A: True},\n",
       " {R: True, P: True, A: False},\n",
       " {R: True, P: True, A: True},\n",
       " {R: False, P: True, A: False},\n",
       " {R: False, P: False, A: True},\n",
       " {R: False, P: False, A: False}]"
      ]
     },
     "metadata": {},
     "output_type": "display_data"
    }
   ],
   "source": [
    "def propositional_logic_syllogism():\n",
    "    from sympy import symbols\n",
    "    from sympy.logic.boolalg import And, Implies, Not\n",
    "    from sympy.logic import inference\n",
    "\n",
    "    # Define propositions\n",
    "    P = symbols(\"P\")  # P: All humans are mortal.\n",
    "    A = symbols(\"A\")  # Q: All Greeks are humans.\n",
    "    R = symbols(\"R\")  # R: All Greeks are mortal.\n",
    "\n",
    "    # Define the premises\n",
    "    premise1 = P  # All humans are mortal.\n",
    "    premise2 = A  # All Greeks are humans.\n",
    "\n",
    "    # Conclusion we wish to verify\n",
    "    conclusion = R  # All Greeks are mortal.\n",
    "\n",
    "    # Combine premises using logical conjunction\n",
    "    premises = And(premise1, premise2)\n",
    "\n",
    "    # Form the implication from premises to conclusion\n",
    "    syllogism = Implies(premises, conclusion)\n",
    "\n",
    "    print(\"Syllogism in propositional logic:\")\n",
    "    display(list(inference.satisfiable(syllogism, all_models=True)))\n",
    "propositional_logic_syllogism()"
   ]
  },
  {
   "cell_type": "code",
   "execution_count": 73,
   "metadata": {},
   "outputs": [
    {
     "data": {
      "text/latex": [
       "$\\displaystyle \\neg \\left(B \\wedge \\neg B\\right) \\wedge \\left(A \\vee \\neg A\\right) \\wedge \\left(C \\vee D\\right)$"
      ],
      "text/plain": [
       "(C | D) & (A | ~A) & ~(B & ~B)"
      ]
     },
     "metadata": {},
     "output_type": "display_data"
    },
    {
     "data": {
      "text/plain": [
       "'<=>'"
      ]
     },
     "metadata": {},
     "output_type": "display_data"
    },
    {
     "data": {
      "text/latex": [
       "$\\displaystyle C \\vee D$"
      ],
      "text/plain": [
       "C | D"
      ]
     },
     "metadata": {},
     "output_type": "display_data"
    },
    {
     "name": "stdout",
     "output_type": "stream",
     "text": [
      "------------------------------------------------------------------------------------------------------------------------------------------------------\n",
      "Valid in these possibilities\n"
     ]
    },
    {
     "data": {
      "text/plain": [
       "[{D: True, C: True}, {D: True, C: False}, {D: False, C: True}]"
      ]
     },
     "execution_count": 73,
     "metadata": {},
     "output_type": "execute_result"
    }
   ],
   "source": [
    "\n",
    "class PropositionalLogicSyllogism():\n",
    "    global_statement = None\n",
    "    simplified_statement = None\n",
    "    def __init__(self, propositions):\n",
    "        self.propositions = propositions\n",
    "        self.global_statement = And(*sp.sympify(self.propositions))\n",
    "        self.simplified_statement = sp.simplify_logic(self.global_statement, force=False)\n",
    "        display(self.global_statement, \"<=>\", self.simplified_statement)\n",
    "        print(\"---\"*50)\n",
    "        # display(list(inference.satisfiable(self.simplified_statement, all_models=True)))\n",
    "    def solve(self, negate=False):\n",
    "        statement = Not(self.simplified_statement) if negate else self.simplified_statement.copy()\n",
    "        # check if all possible assignments are valid\n",
    "        if inference.valid(statement):\n",
    "            return \"Tautologism: Valid in all Possible Worlds\"\n",
    "        else:\n",
    "            models = list(inference.satisfiable(statement, all_models=True))\n",
    "            if not any(models):\n",
    "                return \"Invalid in all Possible Worlds\"\n",
    "            else:\n",
    "                print(\"Valid in these possibilities\")\n",
    "                return [model for model in models]\n",
    "                \n",
    "# all_symbols = global_statement.atoms() | global_statement.free_symbols\n",
    "propositions = [\n",
    "    \"A | ~A\",\n",
    "    \"~(B & ~B)\",\n",
    "    \"C | D\",\n",
    "]\n",
    "problem = PropositionalLogicSyllogism(propositions)\n",
    "\n",
    "problem.solve(negate=False)\n"
   ]
  },
  {
   "cell_type": "markdown",
   "metadata": {},
   "source": [
    "## Predicate Logic"
   ]
  },
  {
   "cell_type": "code",
   "execution_count": 34,
   "metadata": {},
   "outputs": [
    {
     "name": "stdout",
     "output_type": "stream",
     "text": [
      "Logical Formula:\n",
      "Implies(P(x1), B(x1,y1) & H(y1))\n",
      "\n",
      "Is the formula satisfiable?\n",
      "True\n",
      "\n",
      "One possible satisfying assignment:\n",
      "B(x1,y1): True\n",
      "H(y1): True\n",
      "P(x1): False\n"
     ]
    }
   ],
   "source": [
    "from sympy.logic.boolalg import Implies\n",
    "from sympy import symbols, Symbol\n",
    "from sympy.logic.inference import satisfiable\n",
    "\n",
    "# Define the Predicate class\n",
    "class Predicate:\n",
    "    def __init__(self, name):\n",
    "        self.name = name\n",
    "\n",
    "    def __call__(self, *args):\n",
    "        args_str = ','.join(map(str, args))\n",
    "        return Symbol(f'{self.name}({args_str})')\n",
    "\n",
    "# Define our predicates\n",
    "P = Predicate('P')  # Predicate P(x)\n",
    "H = Predicate('H')  # Predicate H(y)\n",
    "B = Predicate('B')  # Predicate B(x, y)\n",
    "\n",
    "# Define variables\n",
    "x1 = Symbol('x1')\n",
    "y1 = Symbol('y1')\n",
    "\n",
    "# Build the formula: ∀x. P(x) → (∃y. H(y) ∧ B(x, y))\n",
    "# We'll demonstrate this for specific instances x1 and y1\n",
    "formula = Implies(P(x1), H(y1) & B(x1, y1))\n",
    "\n",
    "# Print the formula\n",
    "print(\"Logical Formula:\")\n",
    "print(formula)\n",
    "\n",
    "# Check if the formula is satisfiable\n",
    "result = satisfiable(formula)\n",
    "print(\"\\nIs the formula satisfiable?\")\n",
    "print(result is not False)\n",
    "\n",
    "if result:\n",
    "    print(\"\\nOne possible satisfying assignment:\")\n",
    "    for key, value in result.items():\n",
    "        print(f\"{key}: {value}\")\n"
   ]
  },
  {
   "cell_type": "code",
   "execution_count": null,
   "metadata": {},
   "outputs": [
    {
     "ename": "ImportError",
     "evalue": "cannot import name 'ForAll' from 'sympy.logic.boolalg' (c:\\Users\\rahimi\\AppData\\Local\\miniconda3\\envs\\logic_env\\lib\\site-packages\\sympy\\logic\\boolalg.py)",
     "output_type": "error",
     "traceback": [
      "\u001b[1;31m---------------------------------------------------------------------------\u001b[0m",
      "\u001b[1;31mImportError\u001b[0m                               Traceback (most recent call last)",
      "Cell \u001b[1;32mIn[6], line 32\u001b[0m\n\u001b[0;32m     25\u001b[0m     \u001b[38;5;28mprint\u001b[39m(conclusion)\n\u001b[0;32m     27\u001b[0m     \u001b[38;5;66;03m# Although SymPy does not perform automated theorem proving for predicate logic,\u001b[39;00m\n\u001b[0;32m     28\u001b[0m     \u001b[38;5;66;03m# we can see that the conclusion logically follows from the premises.\u001b[39;00m\n\u001b[0;32m     29\u001b[0m     \u001b[38;5;66;03m# By the transitivity of implication:\u001b[39;00m\n\u001b[0;32m     30\u001b[0m     \u001b[38;5;66;03m# From G(x) ⇒ H(x) and H(x) ⇒ M(x), we deduce G(x) ⇒ M(x).\u001b[39;00m\n\u001b[1;32m---> 32\u001b[0m \u001b[43mpredicate_logic_syllogism\u001b[49m\u001b[43m(\u001b[49m\u001b[43m)\u001b[49m\n",
      "Cell \u001b[1;32mIn[6], line 3\u001b[0m, in \u001b[0;36mpredicate_logic_syllogism\u001b[1;34m()\u001b[0m\n\u001b[0;32m      1\u001b[0m \u001b[38;5;28;01mdef\u001b[39;00m \u001b[38;5;21mpredicate_logic_syllogism\u001b[39m():\n\u001b[0;32m      2\u001b[0m     \u001b[38;5;28;01mfrom\u001b[39;00m \u001b[38;5;21;01msympy\u001b[39;00m \u001b[38;5;28;01mimport\u001b[39;00m symbols, Function, Implies\n\u001b[1;32m----> 3\u001b[0m     \u001b[38;5;28;01mfrom\u001b[39;00m \u001b[38;5;21;01msympy\u001b[39;00m\u001b[38;5;21;01m.\u001b[39;00m\u001b[38;5;21;01mlogic\u001b[39;00m\u001b[38;5;21;01m.\u001b[39;00m\u001b[38;5;21;01mboolalg\u001b[39;00m \u001b[38;5;28;01mimport\u001b[39;00m ForAll\n\u001b[0;32m      5\u001b[0m     \u001b[38;5;66;03m# Define variables and predicates\u001b[39;00m\n\u001b[0;32m      6\u001b[0m     x \u001b[38;5;241m=\u001b[39m symbols(\u001b[38;5;124m\"\u001b[39m\u001b[38;5;124mx\u001b[39m\u001b[38;5;124m\"\u001b[39m)\n",
      "\u001b[1;31mImportError\u001b[0m: cannot import name 'ForAll' from 'sympy.logic.boolalg' (c:\\Users\\rahimi\\AppData\\Local\\miniconda3\\envs\\logic_env\\lib\\site-packages\\sympy\\logic\\boolalg.py)"
     ]
    }
   ],
   "source": [
    "def predicate_logic_syllogism():\n",
    "    from sympy import symbols, Function, Implies\n",
    "    from sympy.logic.boolalg import ForAll\n",
    "\n",
    "    # Define variables and predicates\n",
    "    x = symbols(\"x\")\n",
    "    H = Function(\"H\")  # H(x): x is human\n",
    "    M = Function(\"M\")  # M(x): x is mortal\n",
    "    G = Function(\"G\")  # G(x): x is Greek\n",
    "\n",
    "    # Major premise: For all x, if x is human then x is mortal.\n",
    "    major_premise = ForAll(x, Implies(H(x), M(x)))\n",
    "\n",
    "    # Minor premise: For all x, if x is Greek then x is human.\n",
    "    minor_premise = ForAll(x, Implies(G(x), H(x)))\n",
    "\n",
    "    # Conclusion: For all x, if x is Greek then x is mortal.\n",
    "    conclusion = ForAll(x, Implies(G(x), M(x)))\n",
    "\n",
    "    print(\"Major premise:\")\n",
    "    print(major_premise)\n",
    "    print(\"\\nMinor premise:\")\n",
    "    print(minor_premise)\n",
    "    print(\"\\nConclusion:\")\n",
    "    print(conclusion)\n",
    "\n",
    "    # Although SymPy does not perform automated theorem proving for predicate logic,\n",
    "    # we can see that the conclusion logically follows from the premises.\n",
    "    # By the transitivity of implication:\n",
    "    # From G(x) ⇒ H(x) and H(x) ⇒ M(x), we deduce G(x) ⇒ M(x).\n",
    "\n",
    "predicate_logic_syllogism()"
   ]
  },
  {
   "cell_type": "markdown",
   "metadata": {},
   "source": [
    "# 2. <a id='toc2_'></a>[Using z3 solver](#toc0_)"
   ]
  },
  {
   "cell_type": "code",
   "execution_count": 36,
   "metadata": {},
   "outputs": [
    {
     "name": "stdout",
     "output_type": "stream",
     "text": [
      "Propositional Logic Syllogism with Z3:\n",
      "--------------------------------------\n",
      "The conclusion does NOT necessarily follow from the premises in propositional logic.\n",
      "Counterexample Model:\n",
      "[R = False, Q = True, P = True]\n",
      "\n",
      "\n",
      "Predicate Logic Syllogism with Z3:\n",
      "------------------------------------\n",
      "Attempting to prove that the conclusion follows from the premises...\n",
      "proved\n"
     ]
    }
   ],
   "source": [
    "def propositional_logic_syllogism_z3():\n",
    "    from z3 import Bool, And, Implies, Not, Solver, unsat, prove\n",
    "\n",
    "    # Define atomic propositions\n",
    "    P = Bool(\"P\")  # P: All humans are mortal.\n",
    "    Q = Bool(\"Q\")  # Q: All Greeks are humans.\n",
    "    R = Bool(\"R\")  # R: All Greeks are mortal.\n",
    "\n",
    "    # Create a solver\n",
    "    s = Solver()\n",
    "\n",
    "    # Add premises (assume P and Q are true)\n",
    "    s.add(P)\n",
    "    s.add(Q)\n",
    "\n",
    "    # Attempt to prove that P and Q imply R\n",
    "    # In propositional logic, without additional implications, we cannot derive R from P and Q\n",
    "    # Let's check if (P ∧ Q ∧ ¬R) is satisfiable\n",
    "    s.push()\n",
    "    s.add(Not(R))\n",
    "\n",
    "    print(\"Propositional Logic Syllogism with Z3:\")\n",
    "    print(\"--------------------------------------\")\n",
    "    if s.check() == unsat:\n",
    "        print(\"The conclusion (R) follows from the premises.\")\n",
    "    else:\n",
    "        print(\n",
    "            \"The conclusion does NOT necessarily follow from the premises in propositional logic.\"\n",
    "        )\n",
    "        print(\"Counterexample Model:\")\n",
    "        print(s.model())\n",
    "\n",
    "\n",
    "def predicate_logic_syllogism_z3():\n",
    "    from z3 import (\n",
    "        Solver,\n",
    "        ForAll,\n",
    "        Implies,\n",
    "        Function,\n",
    "        BoolSort,\n",
    "        Const,\n",
    "        Not,\n",
    "        And,\n",
    "        unsat,\n",
    "        prove,\n",
    "        DeclareSort,\n",
    "    )\n",
    "\n",
    "    # Declare a sort for Person\n",
    "    Person = DeclareSort(\"Person\")\n",
    "\n",
    "    # Define variables\n",
    "    x = Const(\"x\", Person)\n",
    "\n",
    "    # Define predicates\n",
    "    H = Function(\"H\", Person, BoolSort())  # H(x): x is human\n",
    "    M = Function(\"M\", Person, BoolSort())  # M(x): x is mortal\n",
    "    G = Function(\"G\", Person, BoolSort())  # G(x): x is Greek\n",
    "\n",
    "    # Major premise: ∀x (H(x) ⇒ M(x))\n",
    "    major_premise = ForAll([x], Implies(H(x), M(x)))\n",
    "\n",
    "    # Minor premise: ∀x (G(x) ⇒ H(x))\n",
    "    minor_premise = ForAll([x], Implies(G(x), H(x)))\n",
    "\n",
    "    # Conclusion: ∀x (G(x) ⇒ M(x))\n",
    "    conclusion = ForAll([x], Implies(G(x), M(x)))\n",
    "\n",
    "    # Attempt to prove that the conclusion follows from the premises\n",
    "    print(\"Predicate Logic Syllogism with Z3:\")\n",
    "    print(\"------------------------------------\")\n",
    "    print(\"Attempting to prove that the conclusion follows from the premises...\")\n",
    "\n",
    "    # Use Z3's prove function\n",
    "    prove(Implies(And(major_premise, minor_premise), conclusion))\n",
    "\n",
    "\n",
    "# Run the functions\n",
    "propositional_logic_syllogism_z3()\n",
    "print(\"\\n\")\n",
    "predicate_logic_syllogism_z3()"
   ]
  }
 ],
 "metadata": {
  "kernelspec": {
   "display_name": "ds_env",
   "language": "python",
   "name": "python3"
  },
  "language_info": {
   "codemirror_mode": {
    "name": "ipython",
    "version": 3
   },
   "file_extension": ".py",
   "mimetype": "text/x-python",
   "name": "python",
   "nbconvert_exporter": "python",
   "pygments_lexer": "ipython3",
   "version": "3.10.12"
  }
 },
 "nbformat": 4,
 "nbformat_minor": 2
}
