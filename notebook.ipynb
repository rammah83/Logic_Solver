{
 "cells": [
  {
   "cell_type": "code",
   "execution_count": 70,
   "metadata": {},
   "outputs": [
    {
     "data": {
      "text/plain": [
       "'1.13.3'"
      ]
     },
     "execution_count": 70,
     "metadata": {},
     "output_type": "execute_result"
    }
   ],
   "source": [
    "import sympy as sp\n",
    "from sympy import symbols\n",
    "from sympy.logic.boolalg import And, Implies\n",
    "from sympy.logic import inference\n",
    "\n",
    "sp.__version__"
   ]
  },
  {
   "cell_type": "markdown",
   "metadata": {},
   "source": [
    "# Using Sympy"
   ]
  },
  {
   "cell_type": "markdown",
   "metadata": {},
   "source": [
    "* Major premise: All humans are mortal.\n",
    "* Minor premise: All Greeks are humans.\n",
    "* Conclusion/Consequent: All Greeks are mortal."
   ]
  },
  {
   "cell_type": "code",
   "execution_count": 71,
   "metadata": {},
   "outputs": [
    {
     "name": "stdout",
     "output_type": "stream",
     "text": [
      "Syllogism in propositional logic:\n",
      "{R: True, P: False, A: False}\n"
     ]
    }
   ],
   "source": [
    "def propositional_logic_syllogism():\n",
    "    from sympy import symbols\n",
    "    from sympy.logic.boolalg import And, Implies\n",
    "    from sympy.logic import inference\n",
    "\n",
    "    # Define propositions\n",
    "    P = symbols(\"P\")  # P: All humans are mortal.\n",
    "    A = symbols(\"A\")  # Q: All Greeks are humans.\n",
    "    R = symbols(\"R\")  # R: All Greeks are mortal.\n",
    "\n",
    "    # Define the premises\n",
    "    premise1 = P  # All humans are mortal.\n",
    "    premise2 = A  # All Greeks are humans.\n",
    "\n",
    "    # Conclusion we wish to verify\n",
    "    conclusion = R  # All Greeks are mortal.\n",
    "\n",
    "    # Combine premises using logical conjunction\n",
    "    premises = And(premise1, premise2)\n",
    "\n",
    "    # Form the implication from premises to conclusion\n",
    "    syllogism = Implies(premises, conclusion)\n",
    "\n",
    "    print(\"Syllogism in propositional logic:\")\n",
    "    print(inference.satisfiable(syllogism))\n",
    "propositional_logic_syllogism()"
   ]
  },
  {
   "cell_type": "code",
   "execution_count": 82,
   "metadata": {},
   "outputs": [
    {
     "name": "stdout",
     "output_type": "stream",
     "text": [
      "Valid in some possibilities\n",
      "{A: True, B: True, C: True}\n"
     ]
    }
   ],
   "source": [
    "propositions = [\n",
    "    \"A | ~B\",\n",
    "    \"C & A\",\n",
    "    \"C >> B\",\n",
    "]\n",
    "\n",
    "global_statement = sp.sympify(\n",
    "    \" & \".join([\"(\" + str(symp_statement) + \")\" for symp_statement in propositions])\n",
    ")\n",
    "\n",
    "all_symbols = global_statement.atoms() | global_statement.free_symbols\n",
    "\n",
    "if inference.valid(global_statement):\n",
    "    print(\"Valid in all Worlds\")\n",
    "else:\n",
    "    models_for_global = inference.satisfiable(global_statement, all_models=True)\n",
    "    if all(models_for_global):\n",
    "        print(\"Valid in some possibilities\")\n",
    "        for model in inference.satisfiable(global_statement, all_models=True):\n",
    "            print(model if model else \"Impossible\")\n",
    "    else:\n",
    "        print(\"Invalid in all Worlds\")"
   ]
  },
  {
   "cell_type": "code",
   "execution_count": 73,
   "metadata": {},
   "outputs": [
    {
     "ename": "ImportError",
     "evalue": "cannot import name 'ForAll' from 'sympy.logic.boolalg' (c:\\Users\\rahimi\\AppData\\Local\\miniconda3\\envs\\logic_env\\lib\\site-packages\\sympy\\logic\\boolalg.py)",
     "output_type": "error",
     "traceback": [
      "\u001b[1;31m---------------------------------------------------------------------------\u001b[0m",
      "\u001b[1;31mImportError\u001b[0m                               Traceback (most recent call last)",
      "Cell \u001b[1;32mIn[73], line 32\u001b[0m\n\u001b[0;32m     25\u001b[0m     \u001b[38;5;28mprint\u001b[39m(conclusion)\n\u001b[0;32m     27\u001b[0m     \u001b[38;5;66;03m# Although SymPy does not perform automated theorem proving for predicate logic,\u001b[39;00m\n\u001b[0;32m     28\u001b[0m     \u001b[38;5;66;03m# we can see that the conclusion logically follows from the premises.\u001b[39;00m\n\u001b[0;32m     29\u001b[0m     \u001b[38;5;66;03m# By the transitivity of implication:\u001b[39;00m\n\u001b[0;32m     30\u001b[0m     \u001b[38;5;66;03m# From G(x) ⇒ H(x) and H(x) ⇒ M(x), we deduce G(x) ⇒ M(x).\u001b[39;00m\n\u001b[1;32m---> 32\u001b[0m \u001b[43mpredicate_logic_syllogism\u001b[49m\u001b[43m(\u001b[49m\u001b[43m)\u001b[49m\n",
      "Cell \u001b[1;32mIn[73], line 3\u001b[0m, in \u001b[0;36mpredicate_logic_syllogism\u001b[1;34m()\u001b[0m\n\u001b[0;32m      1\u001b[0m \u001b[38;5;28;01mdef\u001b[39;00m \u001b[38;5;21mpredicate_logic_syllogism\u001b[39m():\n\u001b[0;32m      2\u001b[0m     \u001b[38;5;28;01mfrom\u001b[39;00m \u001b[38;5;21;01msympy\u001b[39;00m \u001b[38;5;28;01mimport\u001b[39;00m symbols, Function, Implies\n\u001b[1;32m----> 3\u001b[0m     \u001b[38;5;28;01mfrom\u001b[39;00m \u001b[38;5;21;01msympy\u001b[39;00m\u001b[38;5;21;01m.\u001b[39;00m\u001b[38;5;21;01mlogic\u001b[39;00m\u001b[38;5;21;01m.\u001b[39;00m\u001b[38;5;21;01mboolalg\u001b[39;00m \u001b[38;5;28;01mimport\u001b[39;00m ForAll\n\u001b[0;32m      5\u001b[0m     \u001b[38;5;66;03m# Define variables and predicates\u001b[39;00m\n\u001b[0;32m      6\u001b[0m     x \u001b[38;5;241m=\u001b[39m symbols(\u001b[38;5;124m\"\u001b[39m\u001b[38;5;124mx\u001b[39m\u001b[38;5;124m\"\u001b[39m)\n",
      "\u001b[1;31mImportError\u001b[0m: cannot import name 'ForAll' from 'sympy.logic.boolalg' (c:\\Users\\rahimi\\AppData\\Local\\miniconda3\\envs\\logic_env\\lib\\site-packages\\sympy\\logic\\boolalg.py)"
     ]
    }
   ],
   "source": [
    "def predicate_logic_syllogism():\n",
    "    from sympy import symbols, Function, Implies\n",
    "    from sympy.logic.boolalg import ForAll\n",
    "\n",
    "    # Define variables and predicates\n",
    "    x = symbols(\"x\")\n",
    "    H = Function(\"H\")  # H(x): x is human\n",
    "    M = Function(\"M\")  # M(x): x is mortal\n",
    "    G = Function(\"G\")  # G(x): x is Greek\n",
    "\n",
    "    # Major premise: For all x, if x is human then x is mortal.\n",
    "    major_premise = ForAll(x, Implies(H(x), M(x)))\n",
    "\n",
    "    # Minor premise: For all x, if x is Greek then x is human.\n",
    "    minor_premise = ForAll(x, Implies(G(x), H(x)))\n",
    "\n",
    "    # Conclusion: For all x, if x is Greek then x is mortal.\n",
    "    conclusion = ForAll(x, Implies(G(x), M(x)))\n",
    "\n",
    "    print(\"Major premise:\")\n",
    "    print(major_premise)\n",
    "    print(\"\\nMinor premise:\")\n",
    "    print(minor_premise)\n",
    "    print(\"\\nConclusion:\")\n",
    "    print(conclusion)\n",
    "\n",
    "    # Although SymPy does not perform automated theorem proving for predicate logic,\n",
    "    # we can see that the conclusion logically follows from the premises.\n",
    "    # By the transitivity of implication:\n",
    "    # From G(x) ⇒ H(x) and H(x) ⇒ M(x), we deduce G(x) ⇒ M(x).\n",
    "\n",
    "predicate_logic_syllogism()"
   ]
  },
  {
   "cell_type": "markdown",
   "metadata": {},
   "source": [
    "# Using z3 solver"
   ]
  },
  {
   "cell_type": "code",
   "execution_count": 36,
   "metadata": {},
   "outputs": [
    {
     "name": "stdout",
     "output_type": "stream",
     "text": [
      "Propositional Logic Syllogism with Z3:\n",
      "--------------------------------------\n",
      "The conclusion does NOT necessarily follow from the premises in propositional logic.\n",
      "Counterexample Model:\n",
      "[R = False, Q = True, P = True]\n",
      "\n",
      "\n",
      "Predicate Logic Syllogism with Z3:\n",
      "------------------------------------\n",
      "Attempting to prove that the conclusion follows from the premises...\n",
      "proved\n"
     ]
    }
   ],
   "source": [
    "def propositional_logic_syllogism_z3():\n",
    "    from z3 import Bool, And, Implies, Not, Solver, unsat, prove\n",
    "\n",
    "    # Define atomic propositions\n",
    "    P = Bool(\"P\")  # P: All humans are mortal.\n",
    "    Q = Bool(\"Q\")  # Q: All Greeks are humans.\n",
    "    R = Bool(\"R\")  # R: All Greeks are mortal.\n",
    "\n",
    "    # Create a solver\n",
    "    s = Solver()\n",
    "\n",
    "    # Add premises (assume P and Q are true)\n",
    "    s.add(P)\n",
    "    s.add(Q)\n",
    "\n",
    "    # Attempt to prove that P and Q imply R\n",
    "    # In propositional logic, without additional implications, we cannot derive R from P and Q\n",
    "    # Let's check if (P ∧ Q ∧ ¬R) is satisfiable\n",
    "    s.push()\n",
    "    s.add(Not(R))\n",
    "\n",
    "    print(\"Propositional Logic Syllogism with Z3:\")\n",
    "    print(\"--------------------------------------\")\n",
    "    if s.check() == unsat:\n",
    "        print(\"The conclusion (R) follows from the premises.\")\n",
    "    else:\n",
    "        print(\n",
    "            \"The conclusion does NOT necessarily follow from the premises in propositional logic.\"\n",
    "        )\n",
    "        print(\"Counterexample Model:\")\n",
    "        print(s.model())\n",
    "\n",
    "\n",
    "def predicate_logic_syllogism_z3():\n",
    "    from z3 import (\n",
    "        Solver,\n",
    "        ForAll,\n",
    "        Implies,\n",
    "        Function,\n",
    "        BoolSort,\n",
    "        Const,\n",
    "        Not,\n",
    "        And,\n",
    "        unsat,\n",
    "        prove,\n",
    "        DeclareSort,\n",
    "    )\n",
    "\n",
    "    # Declare a sort for Person\n",
    "    Person = DeclareSort(\"Person\")\n",
    "\n",
    "    # Define variables\n",
    "    x = Const(\"x\", Person)\n",
    "\n",
    "    # Define predicates\n",
    "    H = Function(\"H\", Person, BoolSort())  # H(x): x is human\n",
    "    M = Function(\"M\", Person, BoolSort())  # M(x): x is mortal\n",
    "    G = Function(\"G\", Person, BoolSort())  # G(x): x is Greek\n",
    "\n",
    "    # Major premise: ∀x (H(x) ⇒ M(x))\n",
    "    major_premise = ForAll([x], Implies(H(x), M(x)))\n",
    "\n",
    "    # Minor premise: ∀x (G(x) ⇒ H(x))\n",
    "    minor_premise = ForAll([x], Implies(G(x), H(x)))\n",
    "\n",
    "    # Conclusion: ∀x (G(x) ⇒ M(x))\n",
    "    conclusion = ForAll([x], Implies(G(x), M(x)))\n",
    "\n",
    "    # Attempt to prove that the conclusion follows from the premises\n",
    "    print(\"Predicate Logic Syllogism with Z3:\")\n",
    "    print(\"------------------------------------\")\n",
    "    print(\"Attempting to prove that the conclusion follows from the premises...\")\n",
    "\n",
    "    # Use Z3's prove function\n",
    "    prove(Implies(And(major_premise, minor_premise), conclusion))\n",
    "\n",
    "\n",
    "# Run the functions\n",
    "propositional_logic_syllogism_z3()\n",
    "print(\"\\n\")\n",
    "predicate_logic_syllogism_z3()"
   ]
  }
 ],
 "metadata": {
  "kernelspec": {
   "display_name": "logic_env",
   "language": "python",
   "name": "python3"
  },
  "language_info": {
   "codemirror_mode": {
    "name": "ipython",
    "version": 3
   },
   "file_extension": ".py",
   "mimetype": "text/x-python",
   "name": "python",
   "nbconvert_exporter": "python",
   "pygments_lexer": "ipython3",
   "version": "3.10.15"
  }
 },
 "nbformat": 4,
 "nbformat_minor": 2
}
