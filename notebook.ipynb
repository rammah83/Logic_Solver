{
 "cells": [
  {
   "cell_type": "markdown",
   "metadata": {},
   "source": [
    "**Table of contents**<a id='toc0_'></a>\n",
    "\n",
    "-   1. [Using Sympy](#toc1_)\n",
    "    -   1.1. [Propositional Logic](#toc1_1_)\n",
    "    -   1.2. [Predicate Logic](#toc1_2_)\n",
    "-   2. [Using z3 solver](#toc2_)\n",
    "\n",
    "<!-- vscode-jupyter-toc-config\n",
    "\tnumbering=true\n",
    "\tanchor=true\n",
    "\tflat=false\n",
    "\tminLevel=1\n",
    "\tmaxLevel=6\n",
    "\t/vscode-jupyter-toc-config -->\n",
    "<!-- THIS CELL WILL BE REPLACED ON TOC UPDATE. DO NOT WRITE YOUR TEXT IN THIS CELL -->\n"
   ]
  },
  {
   "cell_type": "code",
   "execution_count": 67,
   "metadata": {},
   "outputs": [
    {
     "data": {
      "text/plain": [
       "'1.13.3'"
      ]
     },
     "execution_count": 67,
     "metadata": {},
     "output_type": "execute_result"
    }
   ],
   "source": [
    "import sympy as sp\n",
    "from sympy import symbols\n",
    "from sympy.logic.boolalg import And, Implies, Not\n",
    "from sympy.logic import inference\n",
    "\n",
    "sp.__version__"
   ]
  },
  {
   "cell_type": "markdown",
   "metadata": {},
   "source": [
    "# 1. <a id='toc1_'></a>[Using Sympy](#toc0_)\n"
   ]
  },
  {
   "cell_type": "markdown",
   "metadata": {},
   "source": [
    "-   Major premise: All humans are mortal.\n",
    "-   Minor premise: All Greeks are humans.\n",
    "-   Conclusion/Consequent: All Greeks are mortal.\n"
   ]
  },
  {
   "cell_type": "code",
   "execution_count": 248,
   "metadata": {},
   "outputs": [],
   "source": [
    "propositions = [\n",
    "    \"G & ~Ev\",\n",
    "    \"~Ev\",  # Evil exists.\n",
    "    \"~G >> R\",\n",
    "    \"~C & D >> G\",\n",
    "    \"G >> ~R\",\n",
    "]\n",
    "\n",
    "conclusion = \"R\"  # Testing if this leads to an inconsistency (contradiction)."
   ]
  },
  {
   "cell_type": "markdown",
   "metadata": {},
   "source": [
    "## 1.1. <a id='toc1_1_'></a>[Propositional Logic](#toc0_)\n"
   ]
  },
  {
   "cell_type": "code",
   "execution_count": 249,
   "metadata": {},
   "outputs": [],
   "source": [
    "class PropositionalLogicSyllogism:\n",
    "    global_statement = None\n",
    "    simplified_statement = None\n",
    "\n",
    "    def __init__(self, propositions):\n",
    "        self.propositions = propositions\n",
    "        self.global_statement = And(*sp.sympify(self.propositions))\n",
    "        self.simplified_statement = sp.simplify_logic(\n",
    "            self.global_statement, force=False\n",
    "        )\n",
    "        # display(self.global_statement, \"<=>\", self.simplified_statement)\n",
    "        # print(\"---\"*50)\n",
    "        # display(list(inference.satisfiable(self.simplified_statement, all_models=True)))\n",
    "\n",
    "    def representation(self, simplify=False):\n",
    "        if simplify:\n",
    "            return sp.simplify_logic(self.global_statement, force=False)\n",
    "        else:\n",
    "            return self.global_statement\n",
    "\n",
    "    @property\n",
    "    def symbols(self):\n",
    "        return self.global_statement.atoms() | self.global_statement.free_symbols\n",
    "\n",
    "    def solve(self, negate=False):\n",
    "        statement = (\n",
    "            Not(self.simplified_statement)\n",
    "            if negate\n",
    "            else self.simplified_statement.copy()\n",
    "        )\n",
    "        # check if all possible assignments are valid\n",
    "        if inference.valid(statement):\n",
    "            return \"Tautology: Valid in all Possible Worlds\"\n",
    "        else:\n",
    "            models = list(\n",
    "                inference.satisfiable(statement, algorithm=None, all_models=True)\n",
    "            )\n",
    "            if not any(models):\n",
    "                return \"Invalid in all Possible Worlds: contraduition\"\n",
    "            else:\n",
    "                n_worlds = f\"{len(models)} world{'s' if len(models) > 1 else ''}\"\n",
    "                # print(f\"Valid in {n_worlds}: satifiable\")\n",
    "                return [model for model in models]\n",
    "\n",
    "    @staticmethod\n",
    "    def check_entailment(premises, conclusion) -> bool | str:\n",
    "        # print(sp.sympify(premises, evaluate=True))\n",
    "        know_base: inference.PropKB = inference.PropKB()\n",
    "        [know_base.tell(premise) for premise in sp.sympify(premises)]\n",
    "        print(f\"{premises} ⊨ {conclusion} is:\")\n",
    "        if not sp.simplify_logic(And(*sp.sympify(premises))):\n",
    "            return \"Invalid Premises: Contradiction\"\n",
    "        return know_base.ask(conclusion)"
   ]
  },
  {
   "cell_type": "code",
   "execution_count": 253,
   "metadata": {},
   "outputs": [
    {
     "name": "stdout",
     "output_type": "stream",
     "text": [
      "['G & ~Ev', '~Ev', '~G >> R', '~C & D >> G', 'G >> ~R'] ⊨ R is:\n"
     ]
    },
    {
     "data": {
      "text/plain": [
       "False"
      ]
     },
     "execution_count": 253,
     "metadata": {},
     "output_type": "execute_result"
    }
   ],
   "source": [
    "PropositionalLogicSyllogism.check_entailment(\n",
    "    premises=propositions,\n",
    "    conclusion=conclusion,\n",
    ")"
   ]
  },
  {
   "cell_type": "code",
   "execution_count": 254,
   "metadata": {},
   "outputs": [
    {
     "data": {
      "text/latex": [
       "$\\displaystyle G \\wedge \\neg C \\wedge \\neg Ev \\wedge \\neg R$"
      ],
      "text/plain": [
       "G & ~C & ~Ev & ~R"
      ]
     },
     "metadata": {},
     "output_type": "display_data"
    },
    {
     "data": {
      "text/plain": [
       "[{G: True, C: False, R: False, Ev: False}]"
      ]
     },
     "execution_count": 254,
     "metadata": {},
     "output_type": "execute_result"
    }
   ],
   "source": [
    "problem = PropositionalLogicSyllogism(propositions)\n",
    "problem.symbols\n",
    "display(problem.representation(simplify=True))\n",
    "valid_worlds: list[dict] = problem.solve(negate=False)\n",
    "valid_worlds\n"
   ]
  },
  {
   "cell_type": "code",
   "execution_count": 256,
   "metadata": {},
   "outputs": [
    {
     "name": "stdout",
     "output_type": "stream",
     "text": [
      "-------logic is satisfiable in some possible worlds--------\n",
      "    C         Ev        G         R     \n",
      " ------------------------------------\n",
      "    0         0         1         0     \n"
     ]
    }
   ],
   "source": [
    "def print_worlds(valid_worlds:dict|str) -> None:\n",
    "    if isinstance(valid_worlds, str):\n",
    "        print(valid_worlds)\n",
    "        return\n",
    "    print(\"-------logic is satisfiable in some possible worlds--------\")\n",
    "    for k in sorted(valid_worlds[0].keys(), key=lambda x: str(x)):\n",
    "        print(f\"{str(k):^10}\", end=\"\")\n",
    "    print(\"\\n\",f\"{'-'*9*len(valid_worlds[0])}\")\n",
    "    for world in valid_worlds:\n",
    "        world = dict(sorted(world.items(), key=lambda x: str(x)))\n",
    "        for value in world.values():\n",
    "            print(f\"{value:^10}\", end=\"\")\n",
    "        print()\n",
    "\n",
    "print_worlds(valid_worlds)"
   ]
  },
  {
   "cell_type": "markdown",
   "metadata": {},
   "source": [
    "## 1.2. <a id='toc1_2_'></a>[Predicate Logic](#toc0_)\n"
   ]
  },
  {
   "cell_type": "code",
   "execution_count": 56,
   "metadata": {},
   "outputs": [
    {
     "name": "stdout",
     "output_type": "stream",
     "text": [
      "Logical Formula:\n",
      "Implies(P(x1), B(x1,y1) & H(y1))\n",
      "\n",
      "Is the formula satisfiable?\n",
      "True\n",
      "\n",
      "One possible satisfying assignment:\n",
      "H(y1): True\n",
      "B(x1,y1): True\n",
      "P(x1): False\n"
     ]
    }
   ],
   "source": [
    "from sympy.logic.boolalg import Implies\n",
    "from sympy import symbols, Symbol\n",
    "from sympy.logic.inference import satisfiable\n",
    "\n",
    "\n",
    "# Define the Predicate class\n",
    "class Predicate:\n",
    "    def __init__(self, name):\n",
    "        self.name = name\n",
    "\n",
    "    def __call__(self, *args):\n",
    "        args_str = \",\".join(map(str, args))\n",
    "        return Symbol(f\"{self.name}({args_str})\")\n",
    "\n",
    "\n",
    "# Define our predicates\n",
    "P = Predicate(\"P\")  # Predicate P(x)\n",
    "H = Predicate(\"H\")  # Predicate H(y)\n",
    "B = Predicate(\"B\")  # Predicate B(x, y)\n",
    "\n",
    "# Define variables\n",
    "x1 = Symbol(\"x1\")\n",
    "y1 = Symbol(\"y1\")\n",
    "\n",
    "# Build the formula: ∀x. P(x) → (∃y. H(y) ∧ B(x, y))\n",
    "# We'll demonstrate this for specific instances x1 and y1\n",
    "formula = Implies(P(x1), H(y1) & B(x1, y1))\n",
    "\n",
    "# Print the formula\n",
    "print(\"Logical Formula:\")\n",
    "print(formula)\n",
    "\n",
    "# Check if the formula is satisfiable\n",
    "result = satisfiable(formula)\n",
    "print(\"\\nIs the formula satisfiable?\")\n",
    "print(result is not False)\n",
    "\n",
    "if result:\n",
    "    print(\"\\nOne possible satisfying assignment:\")\n",
    "    for key, value in result.items():\n",
    "        print(f\"{key}: {value}\")\n"
   ]
  },
  {
   "cell_type": "markdown",
   "metadata": {},
   "source": [
    "# 2. <a id='toc2_'></a>[Using z3 solver](#toc0_)\n"
   ]
  },
  {
   "cell_type": "code",
   "execution_count": 317,
   "metadata": {},
   "outputs": [
    {
     "data": {
      "text/html": [
       "<b>sat</b>"
      ],
      "text/plain": [
       "sat"
      ]
     },
     "execution_count": 317,
     "metadata": {},
     "output_type": "execute_result"
    }
   ],
   "source": [
    "from z3 import Bools, Solver, And, Bool\n",
    "problem.symbols\n",
    "s = Solver()\n",
    "sym_mapto_z3 = {str(x):Bool(str(x)) for x in problem.symbols}\n",
    "s.add(sym_mapto_z3['G'])\n",
    "s.add(sym_mapto_z3['R'] | sym_mapto_z3['G'])\n",
    "s.check()"
   ]
  },
  {
   "cell_type": "code",
   "execution_count": null,
   "metadata": {},
   "outputs": [
    {
     "name": "stdout",
     "output_type": "stream",
     "text": [
      "P & Q\n",
      "Propositional Logic Syllogism with Z3:\n",
      "--------------------------------------\n",
      "The conclusion does NOT necessarily follow from the premises in propositional logic.\n",
      "Counterexample Model:\n",
      "[R = False, Q = True, P = True]\n",
      "\n",
      "\n",
      "Predicate Logic Syllogism with Z3:\n",
      "------------------------------------\n",
      "Attempting to prove that the conclusion follows from the premises...\n",
      "proved\n"
     ]
    }
   ],
   "source": [
    "def propositional_logic_syllogism_z3():\n",
    "    from z3 import Bool, And, Implies, Not, Solver, unsat, prove, extract_model\n",
    "\n",
    "    # Define atomic propositions\n",
    "    P = Bool(\"P\")  # P: All humans are mortal.\n",
    "    Q = Bool(\"Q\")  # Q: All Greeks are humans.\n",
    "    R = Bool(\"R\") \n",
    "    R = \"P & Q\"\n",
    "    print(R)\n",
    "    R = Bool(\"R\")  # R: All Greeks are mortal.\n",
    "    # Create a solver\n",
    "    s = Solver()\n",
    "\n",
    "    # Add premises (assume P and Q are true)\n",
    "    s.add(P)\n",
    "    s.add(Q)\n",
    "\n",
    "    # Attempt to prove that P and Q imply R\n",
    "    # In propositional logic, without additional implications, we cannot derive R from P and Q\n",
    "    # Let's check if (P ∧ Q ∧ ¬R) is satisfiable\n",
    "    s.push()\n",
    "    s.add(Not(R))\n",
    "\n",
    "    print(\"Propositional Logic Syllogism with Z3:\")\n",
    "    \n",
    "    print(\"--------------------------------------\")\n",
    "    if s.check() == unsat:\n",
    "        print(\"The conclusion (R) follows from the premises.\")\n",
    "    else:\n",
    "        print(\n",
    "            \"The conclusion does NOT necessarily follow from the premises in propositional logic.\"\n",
    "        )\n",
    "        print(\"Counterexample Model:\")\n",
    "        print(s.model())\n",
    "\n",
    "\n",
    "def predicate_logic_syllogism_z3():\n",
    "    from z3 import (\n",
    "        Solver,\n",
    "        ForAll,\n",
    "        Implies,\n",
    "        Function,\n",
    "        BoolSort,\n",
    "        Const,\n",
    "        Not,\n",
    "        And,\n",
    "        unsat,\n",
    "        prove,\n",
    "        DeclareSort,\n",
    "    )\n",
    "\n",
    "    # Declare a sort for Person\n",
    "    Person = DeclareSort(\"Person\")\n",
    "\n",
    "    # Define variables\n",
    "    x = Const(\"x\", Person)\n",
    "\n",
    "    # Define predicates\n",
    "    H = Function(\"H\", Person, BoolSort())  # H(x): x is human\n",
    "    M = Function(\"M\", Person, BoolSort())  # M(x): x is mortal\n",
    "    G = Function(\"G\", Person, BoolSort())  # G(x): x is Greek\n",
    "\n",
    "    # Major premise: ∀x (H(x) ⇒ M(x))\n",
    "    major_premise = ForAll([x], Implies(H(x), M(x)))\n",
    "\n",
    "    # Minor premise: ∀x (G(x) ⇒ H(x))\n",
    "    minor_premise = ForAll([x], Implies(G(x), H(x)))\n",
    "\n",
    "    # Conclusion: ∀x (G(x) ⇒ M(x))\n",
    "    conclusion = ForAll([x], Implies(G(x), M(x)))\n",
    "\n",
    "    # Attempt to prove that the conclusion follows from the premises\n",
    "    print(\"Predicate Logic Syllogism with Z3:\")\n",
    "    print(\"------------------------------------\")\n",
    "    print(\"Attempting to prove that the conclusion follows from the premises...\")\n",
    "\n",
    "    # Use Z3's prove function\n",
    "    prove(Implies(And(major_premise, minor_premise), conclusion))\n",
    "\n",
    "\n",
    "# Run the functions\n",
    "propositional_logic_syllogism_z3()\n",
    "print(\"\\n\")\n",
    "predicate_logic_syllogism_z3()"
   ]
  },
  {
   "cell_type": "code",
   "execution_count": null,
   "metadata": {},
   "outputs": [],
   "source": []
  }
 ],
 "metadata": {
  "kernelspec": {
   "display_name": "logic_env",
   "language": "python",
   "name": "python3"
  },
  "language_info": {
   "codemirror_mode": {
    "name": "ipython",
    "version": 3
   },
   "file_extension": ".py",
   "mimetype": "text/x-python",
   "name": "python",
   "nbconvert_exporter": "python",
   "pygments_lexer": "ipython3",
   "version": "3.10.15"
  }
 },
 "nbformat": 4,
 "nbformat_minor": 2
}
