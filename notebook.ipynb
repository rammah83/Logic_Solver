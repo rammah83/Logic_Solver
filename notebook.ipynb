{
 "cells": [
  {
   "cell_type": "markdown",
   "metadata": {},
   "source": [
    "**Table of contents**<a id='toc0_'></a>\n",
    "\n",
    "-   1. [Using Sympy](#toc1_)\n",
    "    -   1.1. [Propositional Logic](#toc1_1_)\n",
    "    -   1.2. [Predicate Logic](#toc1_2_)\n",
    "-   2. [Using z3 solver](#toc2_)\n",
    "\n",
    "<!-- vscode-jupyter-toc-config\n",
    "\tnumbering=true\n",
    "\tanchor=true\n",
    "\tflat=false\n",
    "\tminLevel=1\n",
    "\tmaxLevel=6\n",
    "\t/vscode-jupyter-toc-config -->\n",
    "<!-- THIS CELL WILL BE REPLACED ON TOC UPDATE. DO NOT WRITE YOUR TEXT IN THIS CELL -->\n"
   ]
  },
  {
   "cell_type": "code",
   "execution_count": 2,
   "metadata": {},
   "outputs": [
    {
     "data": {
      "text/plain": [
       "'1.13.3'"
      ]
     },
     "execution_count": 2,
     "metadata": {},
     "output_type": "execute_result"
    }
   ],
   "source": [
    "import sympy as sp\n",
    "from sympy import symbols\n",
    "from sympy.logic.boolalg import And, Implies, Not\n",
    "from sympy.logic import inference\n",
    "\n",
    "sp.__version__"
   ]
  },
  {
   "cell_type": "markdown",
   "metadata": {},
   "source": [
    "# 1. <a id='toc1_'></a>[Using Sympy](#toc0_)\n"
   ]
  },
  {
   "cell_type": "markdown",
   "metadata": {},
   "source": [
    "-   Major premise: All humans are mortal.\n",
    "-   Minor premise: All Greeks are humans.\n",
    "-   Conclusion/Consequent: All Greeks are mortal.\n"
   ]
  },
  {
   "cell_type": "code",
   "execution_count": 3,
   "metadata": {},
   "outputs": [],
   "source": [
    "from utils.logical_syllogism import PropositionalLogicSyllogism\n",
    "from utils.logical_syllogism import print_satisfaible_worlds"
   ]
  },
  {
   "cell_type": "code",
   "execution_count": 4,
   "metadata": {},
   "outputs": [],
   "source": [
    "# propositions\n",
    "propositions = [\n",
    "    \"G & ~Ev\",\n",
    "    \"~Ev\",  # Evil exists.\n",
    "    \"~G >> R\",\n",
    "    \"~C & D >> G\",\n",
    "    \"G >> ~R\",\n",
    "]\n",
    "\n",
    "conclusion = \"R\"  # Testing if this leads to an inconsistency (contradiction)."
   ]
  },
  {
   "cell_type": "markdown",
   "metadata": {},
   "source": [
    "## 1.1. <a id='toc1_1_'></a>[Propositional Logic](#toc0_)\n"
   ]
  },
  {
   "cell_type": "code",
   "execution_count": 5,
   "metadata": {},
   "outputs": [
    {
     "name": "stdout",
     "output_type": "stream",
     "text": [
      "['G & ~Ev', '~Ev', '~G >> R', '~C & D >> G', 'G >> ~R'] ⊨ R is:\n"
     ]
    },
    {
     "data": {
      "text/plain": [
       "False"
      ]
     },
     "execution_count": 5,
     "metadata": {},
     "output_type": "execute_result"
    }
   ],
   "source": [
    "PropositionalLogicSyllogism.check_entailment(\n",
    "    premises=propositions,\n",
    "    conclusion=conclusion,\n",
    ")"
   ]
  },
  {
   "cell_type": "code",
   "execution_count": 6,
   "metadata": {},
   "outputs": [
    {
     "data": {
      "text/plain": [
       "'G \\\\wedge \\\\neg C \\\\wedge \\\\neg Ev \\\\wedge \\\\neg R'"
      ]
     },
     "metadata": {},
     "output_type": "display_data"
    },
    {
     "name": "stdout",
     "output_type": "stream",
     "text": [
      "Valid in 1 world: satifiable\n",
      "-------logic is satisfiable in some possible worlds--------\n",
      "    C         Ev        G         R     \n",
      " ------------------------------------\n",
      "    0         0         1         0     \n",
      "[{C: False, Ev: False, G: True, R: False}]\n"
     ]
    }
   ],
   "source": [
    "problem = PropositionalLogicSyllogism(propositions)\n",
    "display(problem.representation(simplify=True))\n",
    "valid_worlds: list[dict] = problem.solve(negate=False)\n",
    "print_satisfaible_worlds(valid_worlds)\n",
    "sp.pprint(valid_worlds)  # valid_worlds"
   ]
  },
  {
   "cell_type": "markdown",
   "metadata": {},
   "source": [
    "## 1.2. <a id='toc1_2_'></a>[Predicate Logic](#toc0_)\n"
   ]
  },
  {
   "cell_type": "code",
   "execution_count": 7,
   "metadata": {},
   "outputs": [
    {
     "ename": "NameError",
     "evalue": "name 'P' is not defined",
     "output_type": "error",
     "traceback": [
      "\u001b[1;31m---------------------------------------------------------------------------\u001b[0m",
      "\u001b[1;31mNameError\u001b[0m                                 Traceback (most recent call last)",
      "Cell \u001b[1;32mIn[7], line 27\u001b[0m\n\u001b[0;32m     22\u001b[0m x1 \u001b[38;5;241m=\u001b[39m Symbol(\u001b[38;5;124m\"\u001b[39m\u001b[38;5;124mx1\u001b[39m\u001b[38;5;124m\"\u001b[39m)\n\u001b[0;32m     23\u001b[0m \u001b[38;5;66;03m# y1 = Symbol(\"y1\")\u001b[39;00m\n\u001b[0;32m     24\u001b[0m \n\u001b[0;32m     25\u001b[0m \u001b[38;5;66;03m# Build the formula: ∀x. P(x) → (∃y. H(y) ∧ B(x, y))\u001b[39;00m\n\u001b[0;32m     26\u001b[0m \u001b[38;5;66;03m# We'll demonstrate this for specific instances x1 and y1\u001b[39;00m\n\u001b[1;32m---> 27\u001b[0m formula \u001b[38;5;241m=\u001b[39m Implies(\u001b[43mP\u001b[49m(x1), H(y1) \u001b[38;5;241m&\u001b[39m B(x1, y1))\n\u001b[0;32m     29\u001b[0m \u001b[38;5;66;03m# Print the formula\u001b[39;00m\n\u001b[0;32m     30\u001b[0m \u001b[38;5;28mprint\u001b[39m(\u001b[38;5;124m\"\u001b[39m\u001b[38;5;124mLogical Formula:\u001b[39m\u001b[38;5;124m\"\u001b[39m)\n",
      "\u001b[1;31mNameError\u001b[0m: name 'P' is not defined"
     ]
    }
   ],
   "source": [
    "from sympy.logic.boolalg import Implies\n",
    "from sympy import symbols, Symbol\n",
    "from sympy.logic.inference import satisfiable\n",
    "\n",
    "\n",
    "# Define the Predicate class\n",
    "class Predicate:\n",
    "    def __init__(self, name):\n",
    "        self.name = name\n",
    "\n",
    "    def __call__(self, *args):\n",
    "        args_str = \",\".join(map(str, args))\n",
    "        return Symbol(f\"{self.name}({args_str})\")\n",
    "\n",
    "\n",
    "# Define our predicates\n",
    "M = Predicate(\"M\")  # Predicate P(x)\n",
    "H = Predicate(\"H\")  # Predicate H(y)\n",
    "G = Predicate(\"G\")  # Predicate B(x, y)\n",
    "\n",
    "# Define variables\n",
    "x1 = Symbol(\"x1\")\n",
    "# y1 = Symbol(\"y1\")\n",
    "\n",
    "# Build the formula: ∀x. P(x) → (∃y. H(y) ∧ B(x, y))\n",
    "# We'll demonstrate this for specific instances x1 and y1\n",
    "formula = Implies(P(x1), H(y1) & B(x1, y1))\n",
    "\n",
    "# Print the formula\n",
    "print(\"Logical Formula:\")\n",
    "print(formula)\n",
    "\n",
    "# Check if the formula is satisfiable\n",
    "results = satisfiable(formula, all_models=True)\n",
    "print(\"\\nIs the formula satisfiable?\")\n",
    "for r in results:\n",
    "    print(r is not False)\n",
    "\n",
    "    if r:\n",
    "        print(\"\\nOne possible satisfying assignment:\")\n",
    "        for key, value in r.items():\n",
    "            print(f\"{key}: {value}\")\n"
   ]
  },
  {
   "cell_type": "markdown",
   "metadata": {},
   "source": [
    "# 2. <a id='toc2_'></a>[Using z3 solver](#toc0_)\n"
   ]
  },
  {
   "cell_type": "code",
   "execution_count": null,
   "metadata": {},
   "outputs": [
    {
     "data": {
      "text/html": [
       "[G, R &or; G]"
      ],
      "text/plain": [
       "[G, Or(R, G)]"
      ]
     },
     "execution_count": 24,
     "metadata": {},
     "output_type": "execute_result"
    }
   ],
   "source": [
    "from z3 import Bools, Solver, And, Bool\n",
    "problem.symbols\n",
    "s = Solver()\n",
    "sym_mapto_z3 = {str(x):Bool(str(x)) for x in problem.symbols}\n",
    "s.add(sym_mapto_z3['G'])\n",
    "s.add(sym_mapto_z3['R'] | sym_mapto_z3['G'])\n",
    "s"
   ]
  },
  {
   "cell_type": "code",
   "execution_count": null,
   "metadata": {},
   "outputs": [
    {
     "name": "stdout",
     "output_type": "stream",
     "text": [
      "P & Q\n",
      "Propositional Logic Syllogism with Z3:\n",
      "--------------------------------------\n",
      "The conclusion does NOT necessarily follow from the premises in propositional logic.\n",
      "Counterexample Model:\n",
      "[R = False, Q = True, P = True]\n",
      "\n",
      "\n",
      "Predicate Logic Syllogism with Z3:\n",
      "------------------------------------\n",
      "Attempting to prove that the conclusion follows from the premises...\n",
      "proved\n"
     ]
    }
   ],
   "source": [
    "def propositional_logic_syllogism_z3():\n",
    "    from z3 import Bool, And, Implies, Not, Solver, unsat, prove\n",
    "\n",
    "    # Define atomic propositions\n",
    "    P = Bool(\"P\")  # P: All humans are mortal.\n",
    "    Q = Bool(\"Q\")  # Q: All Greeks are humans.\n",
    "    R = Bool(\"R\") \n",
    "    R = \"P & Q\"\n",
    "    print(R)\n",
    "    R = Bool(\"R\")  # R: All Greeks are mortal.\n",
    "    # Create a solver\n",
    "    s = Solver()\n",
    "\n",
    "    # Add premises (assume P and Q are true)\n",
    "    s.add(P)\n",
    "    s.add(Q)\n",
    "\n",
    "    # Attempt to prove that P and Q imply R\n",
    "    # In propositional logic, without additional implications, we cannot derive R from P and Q\n",
    "    # Let's check if (P ∧ Q ∧ ¬R) is satisfiable\n",
    "    s.push()\n",
    "    s.add(Not(R))\n",
    "\n",
    "    print(\"Propositional Logic Syllogism with Z3:\")\n",
    "    \n",
    "    print(\"--------------------------------------\")\n",
    "    if s.check() == unsat:\n",
    "        print(\"The conclusion (R) follows from the premises.\")\n",
    "    else:\n",
    "        print(\n",
    "            \"The conclusion does NOT necessarily follow from the premises in propositional logic.\"\n",
    "        )\n",
    "        print(\"Counterexample Model:\")\n",
    "        print(s.model())\n",
    "\n",
    "\n",
    "def predicate_logic_syllogism_z3():\n",
    "    from z3 import (\n",
    "        Solver,\n",
    "        ForAll,\n",
    "        Implies,\n",
    "        Function,\n",
    "        BoolSort,\n",
    "        Const,\n",
    "        Not,\n",
    "        And,\n",
    "        unsat,\n",
    "        prove,\n",
    "        DeclareSort,\n",
    "    )\n",
    "\n",
    "    # Declare a sort for Person\n",
    "    Person = DeclareSort(\"Person\")\n",
    "\n",
    "    # Define variables\n",
    "    x = Const(\"x\", Person)\n",
    "\n",
    "    # Define predicates\n",
    "    H = Function(\"H\", Person, BoolSort())  # H(x): x is human\n",
    "    M = Function(\"M\", Person, BoolSort())  # M(x): x is mortal\n",
    "    G = Function(\"G\", Person, BoolSort())  # G(x): x is Greek\n",
    "\n",
    "    # Major premise: ∀x (H(x) ⇒ M(x))\n",
    "    major_premise = ForAll([x], Implies(H(x), M(x)))\n",
    "\n",
    "    # Minor premise: ∀x (G(x) ⇒ H(x))\n",
    "    minor_premise = ForAll([x], Implies(G(x), H(x)))\n",
    "\n",
    "    # Conclusion: ∀x (G(x) ⇒ M(x))\n",
    "    conclusion = ForAll([x], Implies(G(x), M(x)))\n",
    "\n",
    "    # Attempt to prove that the conclusion follows from the premises\n",
    "    print(\"Predicate Logic Syllogism with Z3:\")\n",
    "    print(\"------------------------------------\")\n",
    "    print(\"Attempting to prove that the conclusion follows from the premises...\")\n",
    "\n",
    "    # Use Z3's prove function\n",
    "    prove(Implies(And(major_premise, minor_premise), conclusion))\n",
    "\n",
    "\n",
    "# Run the functions\n",
    "propositional_logic_syllogism_z3()\n",
    "print(\"\\n\")\n",
    "predicate_logic_syllogism_z3()"
   ]
  },
  {
   "cell_type": "code",
   "execution_count": null,
   "metadata": {},
   "outputs": [
    {
     "ename": "Z3Exception",
     "evalue": "b'index out of bounds'",
     "output_type": "error",
     "traceback": [
      "\u001b[1;31m---------------------------------------------------------------------------\u001b[0m",
      "\u001b[1;31mZ3Exception\u001b[0m                               Traceback (most recent call last)",
      "Cell \u001b[1;32mIn[26], line 14\u001b[0m\n\u001b[0;32m     10\u001b[0m Socrates \u001b[38;5;241m=\u001b[39m Bool(\u001b[38;5;124m'\u001b[39m\u001b[38;5;124mSocrates\u001b[39m\u001b[38;5;124m'\u001b[39m)\n\u001b[0;32m     12\u001b[0m \u001b[38;5;66;03m# Define the statements\u001b[39;00m\n\u001b[0;32m     13\u001b[0m \u001b[38;5;66;03m# Socrates is Greek\u001b[39;00m\n\u001b[1;32m---> 14\u001b[0m solver\u001b[38;5;241m.\u001b[39madd(\u001b[43mGreek\u001b[49m\u001b[43m(\u001b[49m\u001b[43mSocrates\u001b[49m\u001b[43m)\u001b[49m)\n\u001b[0;32m     16\u001b[0m \u001b[38;5;66;03m# All humans are mortal\u001b[39;00m\n\u001b[0;32m     17\u001b[0m Humans \u001b[38;5;241m=\u001b[39m Function(\u001b[38;5;124m'\u001b[39m\u001b[38;5;124mHumans\u001b[39m\u001b[38;5;124m'\u001b[39m, BoolSort())\n",
      "File \u001b[1;32mc:\\Users\\rahimi\\AppData\\Local\\miniconda3\\envs\\logic_env\\lib\\site-packages\\z3\\z3.py:862\u001b[0m, in \u001b[0;36mFuncDeclRef.__call__\u001b[1;34m(self, *args)\u001b[0m\n\u001b[0;32m    858\u001b[0m saved \u001b[38;5;241m=\u001b[39m []\n\u001b[0;32m    859\u001b[0m \u001b[38;5;28;01mfor\u001b[39;00m i \u001b[38;5;129;01min\u001b[39;00m \u001b[38;5;28mrange\u001b[39m(num):\n\u001b[0;32m    860\u001b[0m     \u001b[38;5;66;03m# self.domain(i).cast(args[i]) may create a new Z3 expression,\u001b[39;00m\n\u001b[0;32m    861\u001b[0m     \u001b[38;5;66;03m# then we must save in 'saved' to prevent it from being garbage collected.\u001b[39;00m\n\u001b[1;32m--> 862\u001b[0m     tmp \u001b[38;5;241m=\u001b[39m \u001b[38;5;28;43mself\u001b[39;49m\u001b[38;5;241;43m.\u001b[39;49m\u001b[43mdomain\u001b[49m\u001b[43m(\u001b[49m\u001b[43mi\u001b[49m\u001b[43m)\u001b[49m\u001b[38;5;241m.\u001b[39mcast(args[i])\n\u001b[0;32m    863\u001b[0m     saved\u001b[38;5;241m.\u001b[39mappend(tmp)\n\u001b[0;32m    864\u001b[0m     _args[i] \u001b[38;5;241m=\u001b[39m tmp\u001b[38;5;241m.\u001b[39mas_ast()\n",
      "File \u001b[1;32mc:\\Users\\rahimi\\AppData\\Local\\miniconda3\\envs\\logic_env\\lib\\site-packages\\z3\\z3.py:788\u001b[0m, in \u001b[0;36mFuncDeclRef.domain\u001b[1;34m(self, i)\u001b[0m\n\u001b[0;32m    778\u001b[0m \u001b[38;5;28;01mdef\u001b[39;00m \u001b[38;5;21mdomain\u001b[39m(\u001b[38;5;28mself\u001b[39m, i):\n\u001b[0;32m    779\u001b[0m \u001b[38;5;250m    \u001b[39m\u001b[38;5;124;03m\"\"\"Return the sort of the argument `i` of a function declaration.\u001b[39;00m\n\u001b[0;32m    780\u001b[0m \u001b[38;5;124;03m    This method assumes that `0 <= i < self.arity()`.\u001b[39;00m\n\u001b[0;32m    781\u001b[0m \n\u001b[1;32m   (...)\u001b[0m\n\u001b[0;32m    786\u001b[0m \u001b[38;5;124;03m    Real\u001b[39;00m\n\u001b[0;32m    787\u001b[0m \u001b[38;5;124;03m    \"\"\"\u001b[39;00m\n\u001b[1;32m--> 788\u001b[0m     \u001b[38;5;28;01mreturn\u001b[39;00m _to_sort_ref(\u001b[43mZ3_get_domain\u001b[49m\u001b[43m(\u001b[49m\u001b[38;5;28;43mself\u001b[39;49m\u001b[38;5;241;43m.\u001b[39;49m\u001b[43mctx_ref\u001b[49m\u001b[43m(\u001b[49m\u001b[43m)\u001b[49m\u001b[43m,\u001b[49m\u001b[43m \u001b[49m\u001b[38;5;28;43mself\u001b[39;49m\u001b[38;5;241;43m.\u001b[39;49m\u001b[43mast\u001b[49m\u001b[43m,\u001b[49m\u001b[43m \u001b[49m\u001b[43mi\u001b[49m\u001b[43m)\u001b[49m, \u001b[38;5;28mself\u001b[39m\u001b[38;5;241m.\u001b[39mctx)\n",
      "File \u001b[1;32mc:\\Users\\rahimi\\AppData\\Local\\miniconda3\\envs\\logic_env\\lib\\site-packages\\z3\\z3core.py:3012\u001b[0m, in \u001b[0;36mZ3_get_domain\u001b[1;34m(a0, a1, a2, _elems)\u001b[0m\n\u001b[0;32m   3010\u001b[0m \u001b[38;5;28;01mdef\u001b[39;00m \u001b[38;5;21mZ3_get_domain\u001b[39m(a0, a1, a2, _elems\u001b[38;5;241m=\u001b[39mElementaries(_lib\u001b[38;5;241m.\u001b[39mZ3_get_domain)):\n\u001b[0;32m   3011\u001b[0m   r \u001b[38;5;241m=\u001b[39m _elems\u001b[38;5;241m.\u001b[39mf(a0, a1, a2)\n\u001b[1;32m-> 3012\u001b[0m   \u001b[43m_elems\u001b[49m\u001b[38;5;241;43m.\u001b[39;49m\u001b[43mCheck\u001b[49m\u001b[43m(\u001b[49m\u001b[43ma0\u001b[49m\u001b[43m)\u001b[49m\n\u001b[0;32m   3013\u001b[0m   \u001b[38;5;28;01mreturn\u001b[39;00m r\n",
      "File \u001b[1;32mc:\\Users\\rahimi\\AppData\\Local\\miniconda3\\envs\\logic_env\\lib\\site-packages\\z3\\z3core.py:1566\u001b[0m, in \u001b[0;36mElementaries.Check\u001b[1;34m(self, ctx)\u001b[0m\n\u001b[0;32m   1564\u001b[0m err \u001b[38;5;241m=\u001b[39m \u001b[38;5;28mself\u001b[39m\u001b[38;5;241m.\u001b[39mget_error_code(ctx)\n\u001b[0;32m   1565\u001b[0m \u001b[38;5;28;01mif\u001b[39;00m err \u001b[38;5;241m!=\u001b[39m \u001b[38;5;28mself\u001b[39m\u001b[38;5;241m.\u001b[39mOK:\n\u001b[1;32m-> 1566\u001b[0m     \u001b[38;5;28;01mraise\u001b[39;00m \u001b[38;5;28mself\u001b[39m\u001b[38;5;241m.\u001b[39mException(\u001b[38;5;28mself\u001b[39m\u001b[38;5;241m.\u001b[39mget_error_message(ctx, err))\n",
      "\u001b[1;31mZ3Exception\u001b[0m: b'index out of bounds'"
     ]
    }
   ],
   "source": [
    "from z3 import *\n",
    "\n",
    "# Create a Z3 solver\n",
    "solver = Solver()\n",
    "\n",
    "# Define the predicates\n",
    "Greek = Function('Greek', BoolSort())\n",
    "Human = Function('Human', BoolSort())\n",
    "Mortal = Function('Mortal', BoolSort())\n",
    "Socrates = Bool('Socrates')\n",
    "\n",
    "# Define the statements\n",
    "# Socrates is Greek\n",
    "solver.add(Greek(Socrates))\n",
    "\n",
    "# All humans are mortal\n",
    "Humans = Function('Humans', BoolSort())\n",
    "solver.add(ForAll([Humans], Implies(Humans, Mortal(Humans))))\n",
    "\n",
    "# All Greeks are human\n",
    "Greeks = Function('Greeks', BoolSort())\n",
    "solver.add(ForAll([Greeks], Implies(Greeks, Human(Greeks))))\n",
    "\n",
    "# Therefore, Socrates is mortal\n",
    "solver.add(Implies(Greek(Socrates), Mortal(Socrates)))\n",
    "\n",
    "# Check the satisfiability\n",
    "result = solver.check()\n",
    "result, solver.model() if result == sat else None"
   ]
  },
  {
   "cell_type": "markdown",
   "metadata": {},
   "source": [
    "## Test predicate functionality"
   ]
  },
  {
   "cell_type": "code",
   "execution_count": 11,
   "metadata": {},
   "outputs": [
    {
     "name": "stdout",
     "output_type": "stream",
     "text": [
      "{x}\n"
     ]
    },
    {
     "data": {
      "text/latex": [
       "$\\displaystyle H{\\left(x \\right)} < M{\\left(x \\right)}$"
      ],
      "text/plain": [
       "H(x) < M(x)"
      ]
     },
     "execution_count": 11,
     "metadata": {},
     "output_type": "execute_result"
    }
   ],
   "source": [
    "statement = \"H(x) >> M(x)\"\n",
    "from sympy import symbols, Function, Implies\n",
    "from sympy.parsing.sympy_parser import parse_expr, standard_transformations\n",
    "\n",
    "# Define the transformations to handle the parsing\n",
    "transformations = (standard_transformations)\n",
    "\n",
    "# Define the variables and functions\n",
    "x = symbols('x')\n",
    "H = Function('H')\n",
    "M = Function('M')\n",
    "\n",
    "# Define the string expression\n",
    "p = \"H(x) < M(x)\"\n",
    "\n",
    "# Parse the expression\n",
    "parsed_expr = parse_expr(p, transformations=transformations, local_dict={'H': H, 'M': M})\n",
    "\n",
    "# Print the parsed expression\n",
    "print(parsed_expr.free_symbols)\n",
    "sp.sympify(p)"
   ]
  }
 ],
 "metadata": {
  "kernelspec": {
   "display_name": "logic_env",
   "language": "python",
   "name": "python3"
  },
  "language_info": {
   "codemirror_mode": {
    "name": "ipython",
    "version": 3
   },
   "file_extension": ".py",
   "mimetype": "text/x-python",
   "name": "python",
   "nbconvert_exporter": "python",
   "pygments_lexer": "ipython3",
   "version": "3.10.15"
  }
 },
 "nbformat": 4,
 "nbformat_minor": 2
}
